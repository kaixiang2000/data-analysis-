{
 "cells": [
  {
   "cell_type": "markdown",
   "metadata": {},
   "source": [
    "# numpy part1"
   ]
  },
  {
   "cell_type": "code",
   "execution_count": 3,
   "metadata": {},
   "outputs": [],
   "source": [
    "import numpy as np\n",
    "import pandas as pd"
   ]
  },
  {
   "cell_type": "markdown",
   "metadata": {},
   "source": [
    "### (1)create numpy array\n",
    "### 1. np.array([1,2,3]) or np.array(range(10))\n",
    "### 2. np.arange(10)"
   ]
  },
  {
   "cell_type": "code",
   "execution_count": 4,
   "metadata": {},
   "outputs": [
    {
     "name": "stdout",
     "output_type": "stream",
     "text": [
      "[1 2 3]\n",
      "[0 1 2 3 4 5 6 7 8 9]\n",
      "[0 1 2 3 4 5 6 7 8 9]\n"
     ]
    }
   ],
   "source": [
    "print(np.array([1,2,3])) #里面是列表\n",
    "print(np.array(range(10)))\n",
    "print(np.arange(10))#里面是数值"
   ]
  },
  {
   "cell_type": "markdown",
   "metadata": {},
   "source": [
    "### (2)类型\n",
    "### dtype and astype\n",
    "### datype用np. 可以找到不同类型\n",
    "### astype 注意不会改变元数据 必须找个变量接着"
   ]
  },
  {
   "cell_type": "code",
   "execution_count": 9,
   "metadata": {},
   "outputs": [
    {
     "name": "stdout",
     "output_type": "stream",
     "text": [
      "int32\n",
      "[1. 2. 3.]\n",
      "[ True  True  True]\n"
     ]
    }
   ],
   "source": [
    "a=np.array([1,2,3])\n",
    "#查看类型\n",
    "print(a.dtype)\n",
    "#增加类型\n",
    "b=np.array([1,2,3],dtype=np.float32)\n",
    "print(b)\n",
    "#注意astype不会改变元数据 必须找个变量接\n",
    "b=b.astype(np.bool8)\n",
    "print(b)\n",
    "\n"
   ]
  },
  {
   "cell_type": "markdown",
   "metadata": {},
   "source": [
    "### (3)形状 shape 注意后面没有括号\n",
    "### 几行几列 两个[]组成2位 1个[] 组成1位\n",
    "### reshape 改变行与列\n",
    "### flatten() 数据改为一行 变为1位"
   ]
  },
  {
   "cell_type": "code",
   "execution_count": 25,
   "metadata": {},
   "outputs": [
    {
     "name": "stdout",
     "output_type": "stream",
     "text": [
      "[ 0  1  2  3  4  5  6  7  8  9 10 11]\n",
      "(12,)\n",
      "**************************************************\n",
      "[[1 2]\n",
      " [2 3]]\n",
      "(2, 2)\n",
      "**************************************************\n",
      "[[ 0  1  2  3]\n",
      " [ 4  5  6  7]\n",
      " [ 8  9 10 11]]\n",
      "[[[ 0  1]\n",
      "  [ 2  3]\n",
      "  [ 4  5]]\n",
      "\n",
      " [[ 6  7]\n",
      "  [ 8  9]\n",
      "  [10 11]]]\n",
      "**************************************************\n",
      "[[ 0  1  2  3  4  5  6  7  8  9 10 11]]\n",
      "[ 0  1  2  3  4  5  6  7  8  9 10 11]\n"
     ]
    }
   ],
   "source": [
    "a=np.arange(12)\n",
    "print(a)\n",
    "print(a.shape)\n",
    "print('*'*50)\n",
    "b=np.array([[1,2],[2,3]])\n",
    "print(b)\n",
    "print(b.shape)\n",
    "print('*'*50)\n",
    "c=np.arange(12)\n",
    "print(c.reshape((3,4)))\n",
    "print(c.reshape((2,3,2)))\n",
    "print('*'*50)\n",
    "print(c.reshape((1,12)))\n",
    "print(c.flatten())"
   ]
  },
  {
   "cell_type": "markdown",
   "metadata": {},
   "source": [
    "### (4)数据读取与广播机制 了解一般都是pandas读取\n",
    "### np.loadtxt\n",
    "### 二维情况有连个维度shape中有一个 a shape(a,b) \n",
    "###                               b shape(c,d) 只要a c与b d中有一对一致就可以计算"
   ]
  },
  {
   "cell_type": "markdown",
   "metadata": {},
   "source": [
    "### (5)索引与切片 读取数据\n",
    "### 读取某一行a[1] 连续行a[1:] 某几行a[[1,3,4]]\n",
    "### 读取某一列a[:,1] 连续列a[:,2:]     某几列a[:,[1,2,3]]  \n",
    "### 取某及行某激烈a[2:3,3:4]\n",
    "### 取某行某列的值 a[[1,2,4],[3,4,3]] 去1行3列 以及2行4列的值,第4行第3列的值"
   ]
  },
  {
   "cell_type": "code",
   "execution_count": 31,
   "metadata": {},
   "outputs": [
    {
     "name": "stdout",
     "output_type": "stream",
     "text": [
      "[[ 0  1  2  3  4]\n",
      " [ 5  6  7  8  9]\n",
      " [10 11 12 13 14]\n",
      " [15 16 17 18 19]\n",
      " [20 21 22 23 24]\n",
      " [25 26 27 28 29]\n",
      " [30 31 32 33 34]\n",
      " [35 36 37 38 39]\n",
      " [40 41 42 43 44]\n",
      " [45 46 47 48 49]]\n",
      "**************************************************\n",
      "**************************************************取一行\n",
      "[[5 6 7 8 9]]\n",
      "**************************************************取多行\n",
      "[[ 5  6  7  8  9]\n",
      " [15 16 17 18 19]\n",
      " [20 21 22 23 24]]\n",
      "**************************************************取某几个值\n",
      "[ 8 19]\n",
      "**************************************************取某几行某几列\n",
      "[[12 13]\n",
      " [17 18]]\n"
     ]
    }
   ],
   "source": [
    "a=np.arange(50).reshape((10,5))\n",
    "print(a)\n",
    "print('*'*50)\n",
    "print('*'*50+'取一行')\n",
    "print(a[[1]])\n",
    "print('*'*50+'取多行')\n",
    "print(a[[1,3,4]])\n",
    "print('*'*50+'取某几个值')\n",
    "print(a[[1,3],[3,4]])\n",
    "print('*'*50+'取某几行某几列')\n",
    "print(a[2:4,2:4])"
   ]
  },
  {
   "cell_type": "markdown",
   "metadata": {},
   "source": [
    "### (6)数值修改 课通过重新赋值 a[:,2:4]=0 都改为0\n",
    "### 小于某值的进行修改 a[a<10]=4\n",
    "### np.where(阈值条件a<3，0小于3替换，10大雨3替换成10) 注意这个array a放到参数位置\n",
    "### a.clip（10小于10换位10,18大雨18替换成18）注意这个array a 放到外面\n"
   ]
  },
  {
   "cell_type": "code",
   "execution_count": 33,
   "metadata": {},
   "outputs": [
    {
     "name": "stdout",
     "output_type": "stream",
     "text": [
      "[[ 0  1  2  3  4]\n",
      " [ 5  6  7  8  9]\n",
      " [10 11 12 13 14]\n",
      " [15 16 17 18 19]\n",
      " [20 21 22 23 24]\n",
      " [25 26 27 28 29]\n",
      " [30 31 32 33 34]\n",
      " [35 36 37 38 39]\n",
      " [40 41 42 43 44]\n",
      " [45 46 47 48 49]]\n",
      "**************************************************where 该数值\n",
      "[[10 10 10 10 10]\n",
      " [10 10 10 10 10]\n",
      " [10 10 10 10 10]\n",
      " [18 18 18 18 18]\n",
      " [18 18 18 18 18]\n",
      " [18 18 18 18 18]\n",
      " [18 18 18 18 18]\n",
      " [18 18 18 18 18]\n",
      " [18 18 18 18 18]\n",
      " [18 18 18 18 18]]\n",
      "**************************************************clip 该数值\n",
      "[[10 10 10 10 10]\n",
      " [10 10 10 10 10]\n",
      " [10 11 12 13 14]\n",
      " [15 16 17 18 18]\n",
      " [18 18 18 18 18]\n",
      " [18 18 18 18 18]\n",
      " [18 18 18 18 18]\n",
      " [18 18 18 18 18]\n",
      " [18 18 18 18 18]\n",
      " [18 18 18 18 18]]\n"
     ]
    }
   ],
   "source": [
    "a=np.arange(50).reshape((10,5))\n",
    "print(a)\n",
    "print('*'*50+'where 该数值')\n",
    "print(np.where(a<15,10,18))\n",
    "print('*'*50+'clip 该数值')\n",
    "print(a.clip(10,18))\n",
    "\n"
   ]
  },
  {
   "cell_type": "markdown",
   "metadata": {},
   "source": [
    "### (7) nan 与常用统计函数\n",
    "### a!=a 为true的地方为nan np.isnan(a)为true的地方为nan \n",
    "### 或者np.sum(a)结果如果为nan 说明a中有nan\n",
    "### 统计nan个数 np.count_nonzero(np.isnan(a))因为ture 为1 false为0\n",
    "\n",
    "### 常用统计函数 sum mean median max min ptp最大与最小值差 std\n",
    "### np.argmax/argmin(a,axis=0)列最大索引"
   ]
  },
  {
   "cell_type": "code",
   "execution_count": 35,
   "metadata": {},
   "outputs": [
    {
     "name": "stdout",
     "output_type": "stream",
     "text": [
      "[225 235 245 255 265]\n",
      "[14.36140662 14.36140662 14.36140662 14.36140662 14.36140662]\n"
     ]
    }
   ],
   "source": [
    "a=np.arange(50).reshape((10,5))\n",
    "print(np.sum(a,axis=0))\n",
    "print(np.std(a,axis=0))"
   ]
  },
  {
   "cell_type": "markdown",
   "metadata": {},
   "source": [
    "### (8)nan的处理\n",
    "### 取当列中的均值代替"
   ]
  },
  {
   "cell_type": "code",
   "execution_count": 38,
   "metadata": {},
   "outputs": [
    {
     "name": "stdout",
     "output_type": "stream",
     "text": [
      "[[ 0.  1.  2.  3.  4.]\n",
      " [ 5.  6.  7.  8.  9.]\n",
      " [10. 11. nan nan nan]\n",
      " [15. 16. nan nan nan]\n",
      " [20. 21. 22. 23. 24.]\n",
      " [25. 26. 27. 28. 29.]\n",
      " [30. 31. 32. 33. 34.]\n",
      " [35. 36. 37. 38. 39.]\n",
      " [40. 41. 42. 43. 44.]\n",
      " [45. 46. 47. 48. 49.]]\n",
      "[[ 0.  1.  2.  3.  4.]\n",
      " [ 5.  6.  7.  8.  9.]\n",
      " [10. 11. 27. 28. 29.]\n",
      " [15. 16. 27. 28. 29.]\n",
      " [20. 21. 22. 23. 24.]\n",
      " [25. 26. 27. 28. 29.]\n",
      " [30. 31. 32. 33. 34.]\n",
      " [35. 36. 37. 38. 39.]\n",
      " [40. 41. 42. 43. 44.]\n",
      " [45. 46. 47. 48. 49.]]\n"
     ]
    }
   ],
   "source": [
    "a=np.arange(50).reshape((10,5)).astype(np.float32)\n",
    "a[2:4:,2:]=np.nan\n",
    "print(a)\n",
    "for i in range(a.shape[1]):#遍历列\n",
    "    temp_col=a[:,i]\n",
    "    nan_num=np.count_nonzero(temp_col !=temp_col)\n",
    "    if nan_num !=0:#说明列中有nan\n",
    "        temp_col_not_nan=temp_col[temp_col==temp_col]#列中部位nan的保留\n",
    "        temp_col[np.isnan(temp_col)]=temp_col_not_nan.mean()#列中其他部位均值代替nan\n",
    "print(a)"
   ]
  },
  {
   "cell_type": "markdown",
   "metadata": {},
   "source": [
    "### (9)数组拼接 与交换行列\n",
    "### np.vstack(a,b) 竖直拼接 \n",
    "### np.hstack(a,b) 水平拼接\n",
    "### 交换行列 a[[1,2]]=a[[2,1]]"
   ]
  },
  {
   "cell_type": "markdown",
   "metadata": {},
   "source": [
    "### (10)多种特殊数组 和 找索引 s\n",
    "### np.zeros((行，列))\n",
    "### np.ones((行，列))\n",
    "### np.eye(几行方阵)\n",
    "### ###################################################\n",
    "### np.random+ rand 范围0-1  randn 正态  randint(最小，最大，（行，列）)\n",
    "\n"
   ]
  },
  {
   "cell_type": "code",
   "execution_count": 39,
   "metadata": {},
   "outputs": [
    {
     "name": "stdout",
     "output_type": "stream",
     "text": [
      "[0.58056421 0.35896944 0.61713616 0.57462912 0.983984   0.90508065\n",
      " 0.14073639 0.17292676 0.6289455  0.09685923]\n"
     ]
    },
    {
     "data": {
      "text/plain": [
       "array([0.58, 0.36, 0.62, 0.57, 0.98, 0.91, 0.14, 0.17, 0.63, 0.1 ])"
      ]
     },
     "execution_count": 39,
     "metadata": {},
     "output_type": "execute_result"
    }
   ],
   "source": [
    "import random \n",
    "a1=np.array([np.random.rand() for i in range(10)])\n",
    "print(a1)\n",
    "np.round(a1,2)"
   ]
  }
 ],
 "metadata": {
  "kernelspec": {
   "display_name": "Python 3.10.2 64-bit",
   "language": "python",
   "name": "python3"
  },
  "language_info": {
   "codemirror_mode": {
    "name": "ipython",
    "version": 3
   },
   "file_extension": ".py",
   "mimetype": "text/x-python",
   "name": "python",
   "nbconvert_exporter": "python",
   "pygments_lexer": "ipython3",
   "version": "3.10.2"
  },
  "orig_nbformat": 4,
  "vscode": {
   "interpreter": {
    "hash": "26de051ba29f2982a8de78e945f0abaf191376122a1563185a90213a26c5da77"
   }
  }
 },
 "nbformat": 4,
 "nbformat_minor": 2
}
