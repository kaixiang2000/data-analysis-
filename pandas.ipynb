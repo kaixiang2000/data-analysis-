{
 "cells": [
  {
   "cell_type": "markdown",
   "metadata": {},
   "source": [
    "## pandas的总结 part2"
   ]
  },
  {
   "cell_type": "markdown",
   "metadata": {},
   "source": [
    "### （1）pandas 处理非数值型数据\n",
    "### 类型 series 一位数据 \n",
    "###      dataframe 二维数据 \n",
    "### 不同于numpy 带有标签"
   ]
  },
  {
   "cell_type": "code",
   "execution_count": 2,
   "metadata": {},
   "outputs": [
    {
     "name": "stdout",
     "output_type": "stream",
     "text": [
      "0     1\n",
      "1     2\n",
      "2     3\n",
      "3    12\n",
      "dtype: int64\n",
      "a     1\n",
      "b     2\n",
      "c     3\n",
      "d    12\n",
      "dtype: int64\n",
      "name    xiaohong\n",
      "age           30\n",
      "dtype: object\n"
     ]
    }
   ],
   "source": [
    "import pandas as pd\n",
    "a=pd.Series([1,2,3,12])\n",
    "print(a)\n",
    "# 指定索引\n",
    "a=pd.Series([1,2,3,12],index=list(\"abcd\"))#index=list(string.ascii_uppercase[:5])\n",
    "print(a)\n",
    "\n",
    "#通过字典来创建 \n",
    "b={'name':'xiaohong','age':30}\n",
    "b=pd.Series(b)\n",
    "print(b)"
   ]
  },
  {
   "cell_type": "markdown",
   "metadata": {},
   "source": [
    "### (2)一维情况下切片索引 \n",
    "### 一个元素 a['索引'] \n",
    "### 多个元素 a[[1,2]] or a[1:3]\n",
    "### bool索引 a[a>3]\n",
    "### index 和 values操作 a.index/values 可迭代 list(a.index)[:2]\n"
   ]
  },
  {
   "cell_type": "code",
   "execution_count": 3,
   "metadata": {},
   "outputs": [
    {
     "name": "stdout",
     "output_type": "stream",
     "text": [
      "name    xiaohong\n",
      "age           30\n",
      "dtype: object\n",
      "xiaohong\n",
      "a    1\n",
      "b    2\n",
      "dtype: int64\n",
      "a    1\n",
      "b    2\n",
      "dtype: int64\n",
      "d    12\n",
      "dtype: int64\n",
      "Index(['a', 'b', 'c', 'd'], dtype='object') [ 1  2  3 12]\n"
     ]
    }
   ],
   "source": [
    "print(b)\n",
    "print(b[0])\n",
    "print(a[:2])\n",
    "print(a[[0,1]])\n",
    "print(a[a>3])\n",
    "\n",
    "print(a.index,a.values)"
   ]
  },
  {
   "cell_type": "markdown",
   "metadata": {},
   "source": [
    "### pandas 读取外部数据\n",
    "### pd.read_csv('文件地址')\n",
    "### (3)pandas dataframe 数据类型二维\n",
    "### pd.dataframe(np.arange(12).reshape((3,4))，index=list(\"abc'),columns=list('wxyz')) 分别具有行索引 和 列索引\n",
    "### 列出两种定义方式 字典加列表  列表加字典"
   ]
  },
  {
   "cell_type": "code",
   "execution_count": 20,
   "metadata": {},
   "outputs": [
    {
     "name": "stdout",
     "output_type": "stream",
     "text": [
      "       name  age  tel\n",
      "0  xiaohong   30  112\n",
      "1     jsaon   20  224\n",
      "       name  age\n",
      "0  xiaohong   30\n",
      "1     jason   30\n"
     ]
    },
    {
     "data": {
      "text/html": [
       "<div>\n",
       "<style scoped>\n",
       "    .dataframe tbody tr th:only-of-type {\n",
       "        vertical-align: middle;\n",
       "    }\n",
       "\n",
       "    .dataframe tbody tr th {\n",
       "        vertical-align: top;\n",
       "    }\n",
       "\n",
       "    .dataframe thead th {\n",
       "        text-align: right;\n",
       "    }\n",
       "</style>\n",
       "<table border=\"1\" class=\"dataframe\">\n",
       "  <thead>\n",
       "    <tr style=\"text-align: right;\">\n",
       "      <th></th>\n",
       "      <th>name</th>\n",
       "    </tr>\n",
       "  </thead>\n",
       "  <tbody>\n",
       "    <tr>\n",
       "      <th>0</th>\n",
       "      <td>xiaohong</td>\n",
       "    </tr>\n",
       "    <tr>\n",
       "      <th>1</th>\n",
       "      <td>jsaon</td>\n",
       "    </tr>\n",
       "  </tbody>\n",
       "</table>\n",
       "</div>"
      ],
      "text/plain": [
       "       name\n",
       "0  xiaohong\n",
       "1     jsaon"
      ]
     },
     "execution_count": 20,
     "metadata": {},
     "output_type": "execute_result"
    }
   ],
   "source": [
    "b={'name':['xiaohong','jsaon'],'age':[30,20],\"tel\":[112,224]}\n",
    "c=pd.DataFrame(b)\n",
    "print(c)\n",
    "d=[{'name':'xiaohong','age':30},{'name':'jason','age':30}]\n",
    "d=pd.DataFrame(d)\n",
    "print(d)\n"
   ]
  },
  {
   "cell_type": "markdown",
   "metadata": {},
   "source": [
    "# 如何从数据集中抽取固定列 可以通过创建字典遍历dataframe的方法\n",
    "![](2022-11-04-18-39-50.png)\n",
    "![](2022-11-04-18-44-23.png)"
   ]
  },
  {
   "cell_type": "markdown",
   "metadata": {},
   "source": [
    "### (4)dataframe 相关操作\n",
    "### a.index/columns/values  a.shape a.dtypes  a.ndim a.nifo()显示行列数目 a.describe()计算数值列的平均 std等\n",
    "### a.head(行数) a.sort_values(by='列名'，ascending=F/T)\n",
    "### 切片索引\n",
    "### 前10行 a[:20] 前20行只要某一列a[:20][列名]\n",
    "### 方括号写数组表示取行 方括号写字符串表示取列索引\n",
    "### loc标签索引 \n",
    "#### 去一个元素a.loc[\"行索引\",\"列索引\"] 取多列a.loc[\"行索引\",:] \n",
    "#### 取多行多列a.loc[[\"行索引1\"，“行索引2”]，：] or a[\"行索引1\"：“行索引2”,:]\n",
    "### iloc位置索引"
   ]
  },
  {
   "cell_type": "code",
   "execution_count": 23,
   "metadata": {},
   "outputs": [
    {
     "name": "stdout",
     "output_type": "stream",
     "text": [
      "3\n"
     ]
    }
   ],
   "source": [
    "import numpy as np\n",
    "a=np.arange(12).reshape(3,4)\n",
    "a=pd.DataFrame(a,index=list(\"abc\"),columns=list(\"wxyz\"))\n",
    "print(a.loc[\"a\",\"z\"])"
   ]
  },
  {
   "cell_type": "markdown",
   "metadata": {},
   "source": [
    "### (5)bool索引 df[(df['列索引']>80) & (df['列索引']<100)]\n",
    "### 如果要字符串长度 条件   df[(df['列索引'].str.len()>80)]\n",
    "### 处理缺失值 pd.isnull() 判断是否有 nan\n",
    "### a.dropna(axis=0，inplace=，how=？) 行方向有nan 删除 replace 替换 how all 全部为nan 删除 any 有nan 就产出\n",
    "### a.fillna(数值) \n",
    "### 某一列 进行平均值填充 a[\"age\"]=a[\"age\"].fillna(a[\"age\"].mean())"
   ]
  },
  {
   "cell_type": "markdown",
   "metadata": {},
   "source": []
  },
  {
   "cell_type": "code",
   "execution_count": 22,
   "metadata": {},
   "outputs": [
    {
     "name": "stdout",
     "output_type": "stream",
     "text": [
      "0    xiaohong\n",
      "1       jsaon\n",
      "Name: name, dtype: object\n"
     ]
    }
   ],
   "source": [
    "d.drop('age',axis=1)#去掉某列 索引 +方向\n",
    "c.drop(['tel','age'],axis=1)#去掉多列\n",
    "print(c['name'])"
   ]
  }
 ],
 "metadata": {
  "kernelspec": {
   "display_name": "Python 3.10.2 64-bit",
   "language": "python",
   "name": "python3"
  },
  "language_info": {
   "codemirror_mode": {
    "name": "ipython",
    "version": 3
   },
   "file_extension": ".py",
   "mimetype": "text/x-python",
   "name": "python",
   "nbconvert_exporter": "python",
   "pygments_lexer": "ipython3",
   "version": "3.10.2"
  },
  "orig_nbformat": 4,
  "vscode": {
   "interpreter": {
    "hash": "26de051ba29f2982a8de78e945f0abaf191376122a1563185a90213a26c5da77"
   }
  }
 },
 "nbformat": 4,
 "nbformat_minor": 2
}
